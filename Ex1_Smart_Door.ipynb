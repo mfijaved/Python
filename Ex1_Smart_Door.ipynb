{
 "cells": [
  {
   "cell_type": "code",
   "execution_count": 26,
   "metadata": {},
   "outputs": [],
   "source": [
    "def DoorCheck():\n",
    "    i=1\n",
    "    while(i<4):\n",
    "        password = input('Please enter the password \\n')\n",
    "        if password == 'open@2022':\n",
    "            print (\"Hello! The door is open\")\n",
    "            break\n",
    "        else:\n",
    "            print(\"Invalid Password, please try again\")\n",
    "            i+=1\n",
    "\n",
    "    if i >= 4:\n",
    "        print(\"Multiple incorrect, Please answer the security question:\")\n",
    "        question_answer = input('Favourite Color? \\n')\n",
    "        if question_answer == 'black':\n",
    "            new_pass = input(\"Enter a new passowrd:\")\n",
    "            print ('Password reset successful')\n",
    "        else:\n",
    "            print(\"Robber detected, The Door is locked\")  "
   ]
  },
  {
   "cell_type": "code",
   "execution_count": 27,
   "metadata": {},
   "outputs": [
    {
     "name": "stdout",
     "output_type": "stream",
     "text": [
      "Invalid Password, please try again\n",
      "Invalid Password, please try again\n",
      "Invalid Password, please try again\n",
      "Multiple incorrect, Please answer the security question:\n",
      "Password reset successfully\n"
     ]
    }
   ],
   "source": [
    "DoorCheck()\n"
   ]
  }
 ],
 "metadata": {
  "kernelspec": {
   "display_name": "Python 3.10.5 64-bit",
   "language": "python",
   "name": "python3"
  },
  "language_info": {
   "codemirror_mode": {
    "name": "ipython",
    "version": 3
   },
   "file_extension": ".py",
   "mimetype": "text/x-python",
   "name": "python",
   "nbconvert_exporter": "python",
   "pygments_lexer": "ipython3",
   "version": "3.10.5"
  },
  "orig_nbformat": 4,
  "vscode": {
   "interpreter": {
    "hash": "369f2c481f4da34e4445cda3fffd2e751bd1c4d706f27375911949ba6bb62e1c"
   }
  }
 },
 "nbformat": 4,
 "nbformat_minor": 2
}
